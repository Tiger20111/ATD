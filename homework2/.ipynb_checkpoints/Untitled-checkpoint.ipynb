{
 "cells": [
  {
   "cell_type": "code",
   "execution_count": 1,
   "metadata": {},
   "outputs": [],
   "source": [
    "import networkx as nx\n",
    "import matplotlib.pyplot as plt\n",
    "import warnings\n",
    "warnings.filterwarnings(\"ignore\")"
   ]
  },
  {
   "cell_type": "code",
   "execution_count": 2,
   "metadata": {},
   "outputs": [],
   "source": [
    "def draw_graph_simple(file):\n",
    "    G = nx.read_graphml(file)\n",
    "    nx.draw(G, with_labels = True)"
   ]
  },
  {
   "cell_type": "code",
   "execution_count": 3,
   "metadata": {},
   "outputs": [
    {
     "data": {
      "image/png": "[encoded data removed]",
      "text/plain": [
       "<Figure size 432x288 with 1 Axes>"
      ]
     },
     "metadata": {},
     "output_type": "display_data"
    }
   ],
   "source": [
    "draw_graph_simple(\"test/small_dag.graphml\")"
   ]
  },
  {
   "cell_type": "code",
   "execution_count": 4,
   "metadata": {},
   "outputs": [],
   "source": [
    "def getRoots(G):\n",
    "    childrenSet = set()\n",
    "    for edge in G.edges:\n",
    "        childrenSet.add(edge[1]) \n",
    "    return set(G.nodes) - childrenSet"
   ]
  },
  {
   "cell_type": "code",
   "execution_count": 5,
   "metadata": {},
   "outputs": [],
   "source": [
    "def reindexRoots(G):\n",
    "    roots = getRoots(G)\n",
    "    new_roots = set()\n",
    "    num = 1\n",
    "    map_indexes = {}\n",
    "    for root in roots:\n",
    "        new_index = root + \"|\" + str(1)\n",
    "        map_indexes[root] = new_index\n",
    "        new_roots.add(new_index)\n",
    "    G = nx.relabel_nodes(G, map_indexes)\n",
    "    num += 1\n",
    "    return G, new_roots"
   ]
  },
  {
   "cell_type": "code",
   "execution_count": 6,
   "metadata": {},
   "outputs": [],
   "source": [
    "def check_potential(G, processed_vertex, node):\n",
    "    if node in processed_vertex:\n",
    "        return False, []\n",
    "    input_nodes = []\n",
    "    candidate = True\n",
    "    for edge in G.edges:\n",
    "        if edge[1] == node:\n",
    "            input_nodes.append(edge[0])\n",
    "            if edge[0] not in processed_vertex:\n",
    "                candidate = False\n",
    "                break\n",
    "    return candidate, input_nodes"
   ]
  },
  {
   "cell_type": "code",
   "execution_count": 7,
   "metadata": {},
   "outputs": [],
   "source": [
    "def isLess(first, second):\n",
    "    min_len = min(len(first), len(second))\n",
    "    for i in range(min_len):\n",
    "        if first[i] < second[i]:\n",
    "            return True\n",
    "        if first[i] > second[i]:\n",
    "            return False\n",
    "    return len(first) < len(second)"
   ]
  },
  {
   "cell_type": "code",
   "execution_count": 8,
   "metadata": {},
   "outputs": [],
   "source": [
    "def get_minimal(minimal, candidate):\n",
    "    if isLess(minimal, candidate):\n",
    "        return minimal\n",
    "    else:\n",
    "        return candidate"
   ]
  },
  {
   "cell_type": "code",
   "execution_count": 9,
   "metadata": {},
   "outputs": [],
   "source": [
    "def get_minimal_candidate(candidates):\n",
    "    if len(candidates) < 0:\n",
    "        print(\"Smth goes wrong\")\n",
    "    minimal = candidates.popitem()\n",
    "    for candidate in candidates:\n",
    "        minimal = get_minimal(minimal, candidate)\n",
    "    return minimal"
   ]
  },
  {
   "cell_type": "code",
   "execution_count": 10,
   "metadata": {},
   "outputs": [],
   "source": [
    "def get_potential_nodes(G, processed_vertex, candidates, node):\n",
    "    for edge in G.edges(node):\n",
    "        candidate, input_nodes = check_potential(G, processed_vertex, edge[1])\n",
    "        if candidate:\n",
    "            candidates[edge[1]] = input_nodes"
   ]
  },
  {
   "cell_type": "code",
   "execution_count": 11,
   "metadata": {},
   "outputs": [],
   "source": [
    "def search_next(G, processed_vertex):\n",
    "    candidates = {}\n",
    "    for node in processed_vertex:\n",
    "        get_potential_nodes(G, processed_vertex, candidates, node)\n",
    "    print(candidates)\n",
    "    return get_minimal_candidate(candidates)"
   ]
  },
  {
   "cell_type": "code",
   "execution_count": 12,
   "metadata": {},
   "outputs": [],
   "source": [
    "def reindexChildren(G, roots):\n",
    "    num = len(roots)\n",
    "    processed_vertex = roots\n",
    "    will_processed_vertex = roots\n",
    "    while len(processed_vertex) != len(G.nodes):\n",
    "        print(len(processed_vertex))\n",
    "        print(len(G.nodes))\n",
    "        node = search_next(G, processed_vertex)\n",
    "        num += 1\n",
    "        next_node = node + \"|\" + str(num)\n",
    "        map_index = {node: next_node}\n",
    "        G = nx.relabel_nodes(G, map_index)\n",
    "        processed_vertex.add(next_node)"
   ]
  },
  {
   "cell_type": "code",
   "execution_count": 13,
   "metadata": {},
   "outputs": [],
   "source": [
    "def recalc_pos_GK(G):\n",
    "    G, roots = reindexRoots(G)\n",
    "    reindexChildren(G, roots)\n",
    "    return"
   ]
  },
  {
   "cell_type": "code",
   "execution_count": 14,
   "metadata": {},
   "outputs": [],
   "source": [
    "def draw_graph_GK(file):\n",
    "    G = nx.read_graphml(file)\n",
    "    recalc_pos_GK(G)"
   ]
  },
  {
   "cell_type": "code",
   "execution_count": 15,
   "metadata": {},
   "outputs": [
    {
     "name": "stdout",
     "output_type": "stream",
     "text": [
      "1\n",
      "15\n",
      "{'n1': ['n0|1'], 'n2': ['n0|1'], 'n3': ['n0|1']}\n",
      "2\n",
      "15\n",
      "{'n7': ['n1|2'], 'n2': ['n0|1'], 'n3': ['n0|1']}\n",
      "3\n",
      "15\n",
      "{'n7': ['n1|2'], 'n8': ['n2|3'], 'n3': ['n0|1']}\n",
      "4\n",
      "15\n",
      "{'n8': ['n2|3'], 'n3': ['n0|1']}\n",
      "5\n",
      "15\n",
      "{'n9': ['n8|5'], 'n10': ['n8|5'], 'n3': ['n0|1']}\n",
      "6\n",
      "15\n",
      "{'n9': ['n8|5'], 'n3': ['n0|1']}\n",
      "7\n",
      "15\n",
      "{'n12': ['n9|7'], 'n3': ['n0|1']}\n",
      "8\n",
      "15\n",
      "{'n13': ['n12|8'], 'n3': ['n0|1']}\n",
      "9\n",
      "15\n",
      "{'n11': ['n8|5', 'n10|6', 'n13|9'], 'n14': ['n7|4', 'n13|9'], 'n3': ['n0|1']}\n",
      "10\n",
      "15\n",
      "{'n14': ['n7|4', 'n13|9'], 'n3': ['n0|1']}\n",
      "11\n",
      "15\n",
      "{'n3': ['n0|1']}\n"
     ]
    },
    {
     "ename": "TypeError",
     "evalue": "can only concatenate tuple (not \"str\") to tuple",
     "output_type": "error",
     "traceback": [
      "\u001b[0;31m---------------------------------------------------------------------------\u001b[0m",
      "\u001b[0;31mTypeError\u001b[0m                                 Traceback (most recent call last)",
      "\u001b[0;32m<ipython-input-15-2d021a1f8f90>\u001b[0m in \u001b[0;36m<module>\u001b[0;34m\u001b[0m\n\u001b[0;32m----> 1\u001b[0;31m \u001b[0mdraw_graph_GK\u001b[0m\u001b[0;34m(\u001b[0m\u001b[0;34m\"test/small_dag.graphml\"\u001b[0m\u001b[0;34m)\u001b[0m\u001b[0;34m\u001b[0m\u001b[0;34m\u001b[0m\u001b[0m\n\u001b[0m",
      "\u001b[0;32m<ipython-input-14-df0d75d8be95>\u001b[0m in \u001b[0;36mdraw_graph_GK\u001b[0;34m(file)\u001b[0m\n\u001b[1;32m      1\u001b[0m \u001b[0;32mdef\u001b[0m \u001b[0mdraw_graph_GK\u001b[0m\u001b[0;34m(\u001b[0m\u001b[0mfile\u001b[0m\u001b[0;34m)\u001b[0m\u001b[0;34m:\u001b[0m\u001b[0;34m\u001b[0m\u001b[0;34m\u001b[0m\u001b[0m\n\u001b[1;32m      2\u001b[0m     \u001b[0mG\u001b[0m \u001b[0;34m=\u001b[0m \u001b[0mnx\u001b[0m\u001b[0;34m.\u001b[0m\u001b[0mread_graphml\u001b[0m\u001b[0;34m(\u001b[0m\u001b[0mfile\u001b[0m\u001b[0;34m)\u001b[0m\u001b[0;34m\u001b[0m\u001b[0;34m\u001b[0m\u001b[0m\n\u001b[0;32m----> 3\u001b[0;31m     \u001b[0mrecalc_pos_GK\u001b[0m\u001b[0;34m(\u001b[0m\u001b[0mG\u001b[0m\u001b[0;34m)\u001b[0m\u001b[0;34m\u001b[0m\u001b[0;34m\u001b[0m\u001b[0m\n\u001b[0m",
      "\u001b[0;32m<ipython-input-13-899a27d7b1b0>\u001b[0m in \u001b[0;36mrecalc_pos_GK\u001b[0;34m(G)\u001b[0m\n\u001b[1;32m      1\u001b[0m \u001b[0;32mdef\u001b[0m \u001b[0mrecalc_pos_GK\u001b[0m\u001b[0;34m(\u001b[0m\u001b[0mG\u001b[0m\u001b[0;34m)\u001b[0m\u001b[0;34m:\u001b[0m\u001b[0;34m\u001b[0m\u001b[0;34m\u001b[0m\u001b[0m\n\u001b[1;32m      2\u001b[0m     \u001b[0mG\u001b[0m\u001b[0;34m,\u001b[0m \u001b[0mroots\u001b[0m \u001b[0;34m=\u001b[0m \u001b[0mreindexRoots\u001b[0m\u001b[0;34m(\u001b[0m\u001b[0mG\u001b[0m\u001b[0;34m)\u001b[0m\u001b[0;34m\u001b[0m\u001b[0;34m\u001b[0m\u001b[0m\n\u001b[0;32m----> 3\u001b[0;31m     \u001b[0mreindexChildren\u001b[0m\u001b[0;34m(\u001b[0m\u001b[0mG\u001b[0m\u001b[0;34m,\u001b[0m \u001b[0mroots\u001b[0m\u001b[0;34m)\u001b[0m\u001b[0;34m\u001b[0m\u001b[0;34m\u001b[0m\u001b[0m\n\u001b[0m\u001b[1;32m      4\u001b[0m     \u001b[0;32mreturn\u001b[0m\u001b[0;34m\u001b[0m\u001b[0;34m\u001b[0m\u001b[0m\n",
      "\u001b[0;32m<ipython-input-12-dd8a6f634ed7>\u001b[0m in \u001b[0;36mreindexChildren\u001b[0;34m(G, roots)\u001b[0m\n\u001b[1;32m      8\u001b[0m         \u001b[0mnode\u001b[0m \u001b[0;34m=\u001b[0m \u001b[0msearch_next\u001b[0m\u001b[0;34m(\u001b[0m\u001b[0mG\u001b[0m\u001b[0;34m,\u001b[0m \u001b[0mprocessed_vertex\u001b[0m\u001b[0;34m)\u001b[0m\u001b[0;34m\u001b[0m\u001b[0;34m\u001b[0m\u001b[0m\n\u001b[1;32m      9\u001b[0m         \u001b[0mnum\u001b[0m \u001b[0;34m+=\u001b[0m \u001b[0;36m1\u001b[0m\u001b[0;34m\u001b[0m\u001b[0;34m\u001b[0m\u001b[0m\n\u001b[0;32m---> 10\u001b[0;31m         \u001b[0mnext_node\u001b[0m \u001b[0;34m=\u001b[0m \u001b[0mnode\u001b[0m \u001b[0;34m+\u001b[0m \u001b[0;34m\"|\"\u001b[0m \u001b[0;34m+\u001b[0m \u001b[0mstr\u001b[0m\u001b[0;34m(\u001b[0m\u001b[0mnum\u001b[0m\u001b[0;34m)\u001b[0m\u001b[0;34m\u001b[0m\u001b[0;34m\u001b[0m\u001b[0m\n\u001b[0m\u001b[1;32m     11\u001b[0m         \u001b[0mmap_index\u001b[0m \u001b[0;34m=\u001b[0m \u001b[0;34m{\u001b[0m\u001b[0mnode\u001b[0m\u001b[0;34m:\u001b[0m \u001b[0mnext_node\u001b[0m\u001b[0;34m}\u001b[0m\u001b[0;34m\u001b[0m\u001b[0;34m\u001b[0m\u001b[0m\n\u001b[1;32m     12\u001b[0m         \u001b[0mG\u001b[0m \u001b[0;34m=\u001b[0m \u001b[0mnx\u001b[0m\u001b[0;34m.\u001b[0m\u001b[0mrelabel_nodes\u001b[0m\u001b[0;34m(\u001b[0m\u001b[0mG\u001b[0m\u001b[0;34m,\u001b[0m \u001b[0mmap_index\u001b[0m\u001b[0;34m)\u001b[0m\u001b[0;34m\u001b[0m\u001b[0;34m\u001b[0m\u001b[0m\n",
      "\u001b[0;31mTypeError\u001b[0m: can only concatenate tuple (not \"str\") to tuple"
     ]
    }
   ],
   "source": [
    "draw_graph_GK(\"test/small_dag.graphml\")"
   ]
  }
 ],
 "metadata": {
  "kernelspec": {
   "display_name": "Python 3",
   "language": "python",
   "name": "python3"
  },
  "language_info": {
   "codemirror_mode": {
    "name": "ipython",
    "version": 3
   },
   "file_extension": ".py",
   "mimetype": "text/x-python",
   "name": "python",
   "nbconvert_exporter": "python",
   "pygments_lexer": "ipython3",
   "version": "3.7.7"
  }
 },
 "nbformat": 4,
 "nbformat_minor": 4
}

{
 "cells": [
  {
   "cell_type": "code",
   "execution_count": 1,
   "metadata": {},
   "outputs": [],
   "source": [
    "import networkx as nx\n",
    "import matplotlib.pyplot as plt\n",
    "from matplotlib.patches import Rectangle"
   ]
  },
  {
   "cell_type": "code",
   "execution_count": 2,
   "metadata": {},
   "outputs": [],
   "source": [
    "def parse_line_data(line):\n",
    "    i = 0\n",
    "    coor_point_x = 0\n",
    "    coor_point_y = 0\n",
    "    size_label_x = 0\n",
    "    size_label_y = 0\n",
    "    labels = []\n",
    "    for element in line.split():\n",
    "        point = element.find(\",\")\n",
    "        len_el = len(element)\n",
    "        if i == 0:\n",
    "            coor_point_x = int(element[:point])\n",
    "            coor_point_y = int(element[point + 1:len_el])\n",
    "        if i == 1:\n",
    "            size_label_x = int(element[:point])\n",
    "            size_label_y = int(element[point + 1:len_el])\n",
    "        if i > 1:\n",
    "            coor_label_x = int(element[:point])\n",
    "            coor_label_y = int(element[point + 1:len_el])\n",
    "            labels.append([coor_label_x, coor_label_y])\n",
    "        i += 1\n",
    "    return [coor_point_x, coor_point_y], [size_label_x, size_label_y], labels"
   ]
  },
  {
   "cell_type": "code",
   "execution_count": 3,
   "metadata": {},
   "outputs": [],
   "source": [
    "def read_data(file_path):\n",
    "    coor_points = []\n",
    "    size_labels = []\n",
    "    coor_labels = []\n",
    "    file = open(file_path, \"r\").read() \n",
    "    for line in file.split(\"\\n\"):\n",
    "        coor_point, size_label, coor_label = parse_line_data(line)\n",
    "        coor_points.append(coor_point)\n",
    "        size_labels.append(size_label)\n",
    "        coor_labels.append(coor_label)\n",
    "    return coor_points, size_labels, coor_labels"
   ]
  },
  {
   "cell_type": "code",
   "execution_count": 4,
   "metadata": {},
   "outputs": [],
   "source": [
    "def set_nodes_graph(G, coor_points, coor_labels, size_labels):\n",
    "    for i in range(len(coor_points)):\n",
    "        G.add_node(\"+\" + str(i), coordinates=(coor_points[i][0], coor_points[i][1]))\n",
    "        G.add_node(\"-\" + str(i), coordinates=(coor_points[i][0], coor_points[i][1]))\n",
    "    return G"
   ]
  },
  {
   "cell_type": "code",
   "execution_count": 5,
   "metadata": {},
   "outputs": [],
   "source": [
    "def is_overlap(x_1, y_1, x_2, y_2, s_1, s_2):\n",
    "    l1 = (x_1 <= x_2 and x_2 <= x_1 + s_1[0]\n",
    "            or\n",
    "            x_2 <= x_1 and x_1 <= x_2 + s_2[0])\n",
    "    l2 = (y_1 <= y_2 and y_2 <= y_1 + s_1[1]\n",
    "            or\n",
    "            y_2 <= y_1 and y_1 <= y_2 + s_2[1])\n",
    "    return l1 and l2"
   ]
  },
  {
   "cell_type": "code",
   "execution_count": 6,
   "metadata": {},
   "outputs": [],
   "source": [
    "def get_prefix(z, k):\n",
    "    if z == 0 and k == 0:\n",
    "        return \"-\", \"+\", \"-\", \"+\"\n",
    "    if z == 0 and k == 1:\n",
    "        return \"-\", \"-\", \"+\", \"+\"\n",
    "    if z == 1 and k == 0:\n",
    "        return \"+\", \"+\", \"-\", \"-\"\n",
    "    if z == 1 and k == 1:\n",
    "        return \"+\", \"-\", \"+\", \"-\""
   ]
  },
  {
   "cell_type": "code",
   "execution_count": 7,
   "metadata": {},
   "outputs": [],
   "source": [
    "def add_overlap(G, coor_points, coor_labels, size_labels, i, j, z, k):\n",
    "    x_1 = coor_points[i][0] - coor_labels[i][z][0]\n",
    "    y_1 = coor_points[i][1] - coor_labels[i][z][1]\n",
    "    x_2 = coor_points[j][0] - coor_labels[j][k][0]\n",
    "    y_2 = coor_points[j][1] - coor_labels[j][k][1]\n",
    "    if is_overlap(x_1, y_1, x_2, y_2, size_labels[i], size_labels[j]):\n",
    "        ch1_1, ch1_2, ch2_1, ch2_2 = get_prefix(z, k)\n",
    "        G.add_edge(ch1_1 + str(i), ch1_2 + str(j))\n",
    "        G.add_edge(ch2_1 + str(j), ch2_2 + str(i))\n",
    "    return G"
   ]
  },
  {
   "cell_type": "code",
   "execution_count": 8,
   "metadata": {},
   "outputs": [],
   "source": [
    "def add_edge_graph(G, coor_points, coor_labels, size_labels, i, j):\n",
    "    for z in range(0, 2):\n",
    "        for k in range(0, 2):\n",
    "            G = add_overlap(G, coor_points, coor_labels, size_labels, i, j, z, k)\n",
    "    return G"
   ]
  },
  {
   "cell_type": "code",
   "execution_count": 9,
   "metadata": {},
   "outputs": [],
   "source": [
    "def set_edges_graph(G, coor_points, coor_labels, size_labels):\n",
    "    for i in range(len(coor_points)):\n",
    "        for j in range(len(coor_points)):\n",
    "            if i == j:\n",
    "                continue\n",
    "            G = add_edge_graph(G, coor_points, coor_labels, size_labels, i, j)\n",
    "    return G"
   ]
  },
  {
   "cell_type": "code",
   "execution_count": 10,
   "metadata": {},
   "outputs": [],
   "source": [
    "def get_order_node(G, order, visit_nodes, node):\n",
    "    if visit_nodes[node]:\n",
    "        return order, visit_nodes\n",
    "    visit_nodes[node] = True\n",
    "    for edge in G.out_edges(node):\n",
    "        order, visit_nodes = get_order_node(G, order, visit_nodes, edge[1])\n",
    "    order.append(node)\n",
    "    return order, visit_nodes"
   ]
  },
  {
   "cell_type": "code",
   "execution_count": 11,
   "metadata": {},
   "outputs": [],
   "source": [
    "def get_order(G):\n",
    "    visit_nodes = {}\n",
    "    for node in G.nodes():\n",
    "        visit_nodes[node] = False\n",
    "    order = []\n",
    "    for node in G.nodes():\n",
    "        order, visit_nodes = get_order_node(G, order, visit_nodes, node)\n",
    "    return order"
   ]
  },
  {
   "cell_type": "code",
   "execution_count": 12,
   "metadata": {},
   "outputs": [],
   "source": [
    "def add_node_component(G, components, node, num_component):\n",
    "    if components[node] != -1:\n",
    "        return components\n",
    "    components[node] = num_component\n",
    "    for edge in G.in_edges(node):\n",
    "        components = add_node_component(G, components, edge[0], num_component)\n",
    "    return components"
   ]
  },
  {
   "cell_type": "code",
   "execution_count": 13,
   "metadata": {},
   "outputs": [],
   "source": [
    "def get_components(G, order):\n",
    "    components = {}\n",
    "    num_component = 0\n",
    "    for node in G.nodes():\n",
    "        components[node] = -1\n",
    "    for i in range(len(G.nodes())):\n",
    "        node = order[len(G.nodes()) - i - 1]\n",
    "        if components[node] == -1:\n",
    "            num_component += 1\n",
    "        components = add_node_component(G, components, node, num_component)\n",
    "    return components"
   ]
  },
  {
   "cell_type": "code",
   "execution_count": 14,
   "metadata": {},
   "outputs": [],
   "source": [
    "def get_comp_nodes(G, i):\n",
    "    node1 = \"\"\n",
    "    node2 = \"\"\n",
    "    k = 0\n",
    "    for node in G.nodes():\n",
    "        if k == 2 * i:\n",
    "            node1 = node\n",
    "        if k == 2 * i + 1:\n",
    "            node2 = node\n",
    "        k += 1\n",
    "    return node1, node2"
   ]
  },
  {
   "cell_type": "code",
   "execution_count": 15,
   "metadata": {},
   "outputs": [],
   "source": [
    "def check_path(G, components):\n",
    "    direction = [False] * (len(G.nodes()) // 2)\n",
    "    for i in range(len(G) // 2):\n",
    "        node1, node2 = get_comp_nodes(G,  i)\n",
    "        if components[node1] == components[node2]:\n",
    "            return False, direction\n",
    "        direction[i] = components[node1] > components[node2]\n",
    "    return True, direction"
   ]
  },
  {
   "cell_type": "code",
   "execution_count": 16,
   "metadata": {},
   "outputs": [],
   "source": [
    "def can_be_draw(G):\n",
    "    order = get_order(G)\n",
    "    components = get_components(G, order)\n",
    "    return check_path(G, components)"
   ]
  },
  {
   "cell_type": "code",
   "execution_count": 17,
   "metadata": {},
   "outputs": [],
   "source": [
    "def settings_graph():\n",
    "    x_lim = [-400, 400]\n",
    "    y_lim = [-400, 400]\n",
    "    fig_x = 15\n",
    "    fig_y = 15\n",
    "    node_size = 80\n",
    "    font_size = 15\n",
    "    with_labels = False\n",
    "    return x_lim, y_lim, fig_x, fig_y, node_size, font_size, with_labels"
   ]
  },
  {
   "cell_type": "code",
   "execution_count": 18,
   "metadata": {},
   "outputs": [],
   "source": [
    "def set_new_graph(coordinatesG, coor_points):\n",
    "    new_G = nx.DiGraph(directed=True)\n",
    "    for i in range(len(coor_points)):\n",
    "        new_G.add_node(\"+\" + str(i), coordinates = (coor_points[i][0], coor_points[i][1])) \n",
    "    return new_G"
   ]
  },
  {
   "cell_type": "code",
   "execution_count": 19,
   "metadata": {},
   "outputs": [],
   "source": [
    "def draw_graph(coordinatesG, coor_points, direction, coor_labels, size_labels):\n",
    "    new_G = set_new_graph(coordinatesG, coor_points)\n",
    "    x_lim, y_lim, fig_x, fig_y, node_size, font_size, with_labels = settings_graph()\n",
    "    fig, ax = plt.subplots(figsize=(fig_x, fig_y))\n",
    "    x = 0\n",
    "    y = 0\n",
    "    nx.draw(new_G, coordinatesG, node_size=node_size, with_labels=with_labels)\n",
    "    for i in range(len(coor_points)):\n",
    "        if (direction[i]):\n",
    "            x = coor_points[i][0] - coor_labels[i][1][0]\n",
    "            y = coor_points[i][1] - coor_labels[i][1][1]\n",
    "        else:\n",
    "            x = coor_points[i][0] - coor_labels[i][0][0]\n",
    "            y = coor_points[i][1] - coor_labels[i][0][1]\n",
    "        ax.add_patch(Rectangle((x, y), size_labels[i][0], size_labels[i][1], edgecolor='r', facecolor='none'))\n",
    "    plt.xlim(x_lim)\n",
    "    plt.ylim(y_lim)"
   ]
  },
  {
   "cell_type": "code",
   "execution_count": 20,
   "metadata": {},
   "outputs": [],
   "source": [
    "def read_graph(file_path):\n",
    "    G = nx.DiGraph(directed=True)\n",
    "    coor_points, size_labels, coor_labels = read_data(file_path)\n",
    "    G = set_nodes_graph(G, coor_points, coor_labels, size_labels)\n",
    "    G = set_edges_graph(G, coor_points, coor_labels, size_labels)\n",
    "    #print(G.edges())\n",
    "    valid, direction = can_be_draw(G)\n",
    "    if valid:\n",
    "        draw_graph(nx.get_node_attributes(G, 'coordinates'), coor_points, direction, coor_labels, size_labels)\n",
    "    else:\n",
    "        print(\"Not valid view\")"
   ]
  },
  {
   "cell_type": "code",
   "execution_count": 21,
   "metadata": {},
   "outputs": [
    {
     "data": {
      "image/png": "[encoded data removed]",
      "text/plain": [
       "<Figure size 1080x1080 with 1 Axes>"
      ]
     },
     "metadata": {},
     "output_type": "display_data"
    }
   ],
   "source": [
    "read_graph(\"test/bin1.txt\")"
   ]
  },
  {
   "cell_type": "code",
   "execution_count": 22,
   "metadata": {},
   "outputs": [
    {
     "data": {
      "image/png": "[encoded data removed]",
      "text/plain": [
       "<Figure size 1080x1080 with 1 Axes>"
      ]
     },
     "metadata": {},
     "output_type": "display_data"
    }
   ],
   "source": [
    "read_graph(\"test/bin2.txt\")"
   ]
  },
  {
   "cell_type": "code",
   "execution_count": 23,
   "metadata": {},
   "outputs": [
    {
     "data": {
      "image/png": "[encoded data removed]",
      "text/plain": [
       "<Figure size 1080x1080 with 1 Axes>"
      ]
     },
     "metadata": {},
     "output_type": "display_data"
    }
   ],
   "source": [
    "read_graph(\"test/bin3.txt\")"
   ]
  },
  {
   "cell_type": "code",
   "execution_count": 24,
   "metadata": {},
   "outputs": [
    {
     "data": {
      "image/png": "[encoded data removed]",
      "text/plain": [
       "<Figure size 1080x1080 with 1 Axes>"
      ]
     },
     "metadata": {},
     "output_type": "display_data"
    }
   ],
   "source": [
    "read_graph(\"test/bin4.txt\")"
   ]
  },
  {
   "cell_type": "code",
   "execution_count": 25,
   "metadata": {},
   "outputs": [
    {
     "data": {
      "image/png": "[encoded data removed]",
      "text/plain": [
       "<Figure size 1080x1080 with 1 Axes>"
      ]
     },
     "metadata": {},
     "output_type": "display_data"
    }
   ],
   "source": [
    "read_graph(\"test/bin5.txt\")"
   ]
  }
 ],
 "metadata": {
  "kernelspec": {
   "display_name": "Python 3",
   "language": "python",
   "name": "python3"
  },
  "language_info": {
   "codemirror_mode": {
    "name": "ipython",
    "version": 3
   },
   "file_extension": ".py",
   "mimetype": "text/x-python",
   "name": "python",
   "nbconvert_exporter": "python",
   "pygments_lexer": "ipython3",
   "version": "3.7.7"
  }
 },
 "nbformat": 4,
 "nbformat_minor": 4
}

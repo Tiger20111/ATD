{
 "cells": [
  {
   "cell_type": "code",
   "execution_count": 1,
   "metadata": {},
   "outputs": [],
   "source": [
    "import networkx as nx\n",
    "import matplotlib.pyplot as plt"
   ]
  },
  {
   "cell_type": "code",
   "execution_count": 2,
   "metadata": {},
   "outputs": [],
   "source": [
    "def parse_line_data(line):\n",
    "    i = 0\n",
    "    coor_point_x = 0\n",
    "    coor_point_y = 0\n",
    "    size_label_x = 0\n",
    "    size_label_y = 0\n",
    "    coor_label_x = 0\n",
    "    coor_label_y = 0\n",
    "    for element in line.split():\n",
    "        point = element.find(\",\")\n",
    "        len_el = len(element)\n",
    "        if i == 0:\n",
    "            coor_point_x = int(element[:point])\n",
    "            coor_point_y = int(element[point + 1:len_el])\n",
    "        if i == 1:\n",
    "            size_label_x = int(element[:point])\n",
    "            size_label_y = int(element[point + 1:len_el])\n",
    "        if i == 2:\n",
    "            coor_label_x = int(element[:point])\n",
    "            coor_label_y = int(element[point + 1:len_el])\n",
    "        i += 1\n",
    "    return [coor_point_x, coor_point_y], [size_label_x, size_label_y], [coor_label_x, coor_label_y]"
   ]
  },
  {
   "cell_type": "code",
   "execution_count": 3,
   "metadata": {},
   "outputs": [],
   "source": [
    "def read_data(file_path):\n",
    "    coor_points = []\n",
    "    size_labels = []\n",
    "    coor_labels = []\n",
    "    file = open(file_path, \"r\").read() \n",
    "    for line in file.split(\"\\n\"):\n",
    "        coor_point, size_label, coor_label = parse_line_data(line)\n",
    "        coor_points.append(coor_point)\n",
    "        size_labels.append(size_label)\n",
    "        coor_labels.append(coor_label)\n",
    "    return coor_points, size_labels, coor_labels"
   ]
  },
  {
   "cell_type": "code",
   "execution_count": 4,
   "metadata": {},
   "outputs": [],
   "source": [
    "def set_nodes_graph(G, coor_points, coor_labels, size_labels):\n",
    "    for i in range(len(coor_points)):\n",
    "        G.add_node(\"+\" + str(i), coordinates=(coor_points[i][0], coor_points[i][1]))\n",
    "        G.add_node(\"-\" + str(i), coordinates=(coor_points[i][0], coor_points[i][1]))\n",
    "    return G"
   ]
  },
  {
   "cell_type": "code",
   "execution_count": 5,
   "metadata": {},
   "outputs": [],
   "source": [
    "def is_overlap(x_1, y_1, x_2, y_2):\n",
    "    l1 = (x1 <= x2 and x2 <= x1 + s1[0]\n",
    "            or\n",
    "            x2 <= x1 and x1 <= x2 + s2[0])\n",
    "    l2 = (y1 <= y2 and y2 <= y1 + s1[1]\n",
    "            or\n",
    "            y2 <= y1 and y1 <= y2 + s2[1])\n",
    "    return l1 and l2"
   ]
  },
  {
   "cell_type": "code",
   "execution_count": 6,
   "metadata": {},
   "outputs": [],
   "source": [
    "def get_prefix(z, k):\n",
    "    if z == 0 and k == 0:\n",
    "        return \"-\", \"+\", \"-\", \"+\"\n",
    "    if z == 0 and k == 1:\n",
    "        return \"-\", \"-\", \"+\", \"+\"\n",
    "    if z == 1 and k == 0:\n",
    "        return \"+\", \"+\", \"-\", \"-\"\n",
    "    if z == 1 and k == 1:\n",
    "        return \"+\", \"-\", \"+\", \"-\""
   ]
  },
  {
   "cell_type": "code",
   "execution_count": 7,
   "metadata": {},
   "outputs": [],
   "source": [
    "def add_overlap(G, coor_points, coor_labels, size_labels, i, j, z, k):\n",
    "    x_1 = coor_points[i][0] - coor_labels[i][z][0]\n",
    "    y_1 = coor_points[i][1] - coor_labels[i][z][1]\n",
    "    x_2 = coor_points[j][0] - coor_labels[j][k][0]\n",
    "    y_2 = coor_points[j][1] - coor_labels[j][k][1]\n",
    "    \n",
    "    if is_overlap(x_1, y_1, x_2, y_2):\n",
    "        ch1_1, ch1_2, ch2_1, ch2_2\n",
    "        G.add_edge(ch1_1 + str(i), ch1_2 + str(j))\n",
    "        G.add_edge(ch2_1 + str(j), ch2_2 + str(i))\n",
    "    return G"
   ]
  },
  {
   "cell_type": "code",
   "execution_count": 8,
   "metadata": {},
   "outputs": [],
   "source": [
    "def add_edge_graph(G, coor_points, coor_labels, size_labels, i, j):\n",
    "    for z in range(0, 1):\n",
    "        for k in range(0, 1):\n",
    "            G = add_edge_graph(G, coor_points, coor_labels, size_labels, i, j, z, k)\n",
    "    return G"
   ]
  },
  {
   "cell_type": "code",
   "execution_count": 9,
   "metadata": {},
   "outputs": [],
   "source": [
    "def set_edges_graph(G, coor_points, coor_labels, size_labels):\n",
    "    for i in range(len(coor_points)):\n",
    "        for j in range(len(coor_points)):\n",
    "            if i == j:\n",
    "                continue\n",
    "            G = add_edge_graph(G, coor_points, coor_labels, size_labels, size_labels, i, j)\n",
    "    return G"
   ]
  },
  {
   "cell_type": "code",
   "execution_count": 10,
   "metadata": {},
   "outputs": [],
   "source": [
    "def get_order_node(G, order, visit_nodes, node):\n",
    "    if visit_nodes[node]:\n",
    "        return order, visit_nodes\n",
    "    visit_nodes[node] = True\n",
    "    for edge in G.out_edges(node):\n",
    "        order, visit_nodes = get_order_node(G, order, visit_nodes, node)\n",
    "    order.append(node)\n",
    "    return order, visit_nodes"
   ]
  },
  {
   "cell_type": "code",
   "execution_count": 11,
   "metadata": {},
   "outputs": [],
   "source": [
    "def get_order(G):\n",
    "    visit_nodes = {}\n",
    "    for node in G.nodes():\n",
    "        visit_nodes[node] = False\n",
    "    order = []\n",
    "    for node in G.nodes():\n",
    "        order, visit_nodes = get_order_node(G, order, visit_nodes, node)\n",
    "    return order"
   ]
  },
  {
   "cell_type": "code",
   "execution_count": 12,
   "metadata": {},
   "outputs": [],
   "source": [
    "def add_node_component(G, components, node, num_component):\n",
    "    if components[node] != -1:\n",
    "        return components\n",
    "    components[node] = num_component\n",
    "    for edge in G.in_edges(node):\n",
    "        components = add_node_component(G, components, edge[0], num_component)\n",
    "    return components"
   ]
  },
  {
   "cell_type": "code",
   "execution_count": 13,
   "metadata": {},
   "outputs": [],
   "source": [
    "def get_components(G, order):\n",
    "    components = {}\n",
    "    num_component = 0\n",
    "    for node in G.nodes():\n",
    "        components[node] = -1\n",
    "    for i in range(len(G.nodes())):\n",
    "        node = order[len(G.nodes()) - i - 1]\n",
    "        if components[node] != -1:\n",
    "            num_component += 1\n",
    "        components = add_node_component(G, components, node, num_component)\n",
    "    return components"
   ]
  },
  {
   "cell_type": "code",
   "execution_count": 14,
   "metadata": {},
   "outputs": [],
   "source": [
    "def get_comp_nodes(G, i):\n",
    "    node1 = \"\"\n",
    "    node2 = \"\"\n",
    "    k = 0\n",
    "    for node in G.nodes():\n",
    "        if k == 2 * i:\n",
    "            node1 = node\n",
    "        if k == 2 * i + 1:\n",
    "            node2 = node\n",
    "    return no"
   ]
  },
  {
   "cell_type": "code",
   "execution_count": 15,
   "metadata": {},
   "outputs": [],
   "source": [
    "def check_path(G, components):\n",
    "    direction = [False] * (len(G.nodes()) // 2)\n",
    "    for i in range(len(G) // 2):\n",
    "        node1, node1 = get_comp_nodes(G,  i)\n",
    "        if components[node1] == components[node2]:\n",
    "            return False, direction\n",
    "        direction[i] = components[node1] > components[node2]\n",
    "    return True, direction"
   ]
  },
  {
   "cell_type": "code",
   "execution_count": 16,
   "metadata": {},
   "outputs": [],
   "source": [
    "def can_be_draw(G):\n",
    "    order = get_order(G)\n",
    "    components = get_components(G, order)\n",
    "    return check_path(G, components)"
   ]
  },
  {
   "cell_type": "code",
   "execution_count": 17,
   "metadata": {},
   "outputs": [],
   "source": [
    "def settings_graph():\n",
    "    x_lim = [-200, 200]\n",
    "    y_lim = [-200, 200]\n",
    "    fig_x = 15\n",
    "    fig_y = 15\n",
    "    node_size = 80\n",
    "    font_size = 15\n",
    "    with_labels = False\n",
    "    return xlim, ylim, figX, figY, node_size, font_size, with_labels"
   ]
  },
  {
   "cell_type": "code",
   "execution_count": 18,
   "metadata": {},
   "outputs": [],
   "source": [
    "def set_new_graph(coordinatesG, coor_points):\n",
    "    new_G = nx.DiGraph(directed=True)\n",
    "    for i in range(len(points)):\n",
    "        new_G.add(\"+\" + str(i), pos(points[i][0], points[i][1])) \n",
    "    return new_G"
   ]
  },
  {
   "cell_type": "code",
   "execution_count": 19,
   "metadata": {},
   "outputs": [],
   "source": [
    "def full_ax(ax, direction, coor_points, coor_labels):\n",
    "    x = 0\n",
    "    y = 0\n",
    "    for i in range(len(coor_points)):\n",
    "        if (direction[i]):\n",
    "            x = coor_points[i][0] - coor_labels[i][1][0]\n",
    "            y = coor_points[i][1] - coor_labels[i][1][1]\n",
    "        else:\n",
    "            x = coor_points[i][0] - coor_labels[i][0][0]\n",
    "            y = coor_points[i][1] - coor_labels[i][0][1]\n",
    "        ax.add_patch(Rectangle((x, y),\n",
    "                               coor_labels[i][0], coor_labels[i][1],\n",
    "                               edgecolor='r', facecolor='none'))\n",
    "    return ax"
   ]
  },
  {
   "cell_type": "code",
   "execution_count": 20,
   "metadata": {},
   "outputs": [],
   "source": [
    "def draw_graph(coordinatesG, coor_points, direction):\n",
    "    new_G = set_new_graph(coordinatesG, coor_points)\n",
    "    x_lim, y_lim, fig_x, fig_y, node_size, font_size, with_labels = settings_graph()\n",
    "    fig, ax = plt.subplots(figsize=(fig_x, fig_y))\n",
    "    nx.draw(new_G, coordinatesG, node_size=node_size, with_labels=with_labels)\n",
    "    ax = full_ax(ax, direction, coor_points, coor_labels)\n",
    "    plt.xlim(x_lim)\n",
    "    plt.ylim(y_lim)"
   ]
  },
  {
   "cell_type": "code",
   "execution_count": 21,
   "metadata": {},
   "outputs": [],
   "source": [
    "def read_graph(file_path):\n",
    "    G = nx.DiGraph(directed=True)\n",
    "    coor_points, size_labels, coor_labels = read_data(file_path)\n",
    "    G = set_nodes_graph(G, coor_points, coor_labels, size_labels)\n",
    "    valid, direction = can_be_draw(G)\n",
    "    if valid:\n",
    "        draw_graph(G.nx.get_node_attributes(G, 'coordinates'), coor_points, direction, coor_labels)"
   ]
  },
  {
   "cell_type": "code",
   "execution_count": 22,
   "metadata": {},
   "outputs": [
    {
     "name": "stdout",
     "output_type": "stream",
     "text": [
      "['+0', '-0', '+1', '-1', '+2', '-2', '+3', '-3', '+4', '-4', '+5', '-5', '+6', '-6', '+7', '-7', '+8', '-8', '+9', '-9', '+10', '-10', '+11', '-11', '+12', '-12', '+13', '-13', '+14', '-14', '+15', '-15', '+16', '-16', '+17', '-17', '+18', '-18', '+19', '-19', '+20', '-20', '+21', '-21', '+22', '-22', '+23', '-23']\n",
      "0\n"
     ]
    },
    {
     "ename": "KeyError",
     "evalue": "0",
     "output_type": "error",
     "traceback": [
      "\u001b[0;31m---------------------------------------------------------------------------\u001b[0m",
      "\u001b[0;31mKeyError\u001b[0m                                  Traceback (most recent call last)",
      "\u001b[0;32m<ipython-input-22-1361a2ef5902>\u001b[0m in \u001b[0;36m<module>\u001b[0;34m\u001b[0m\n\u001b[0;32m----> 1\u001b[0;31m \u001b[0mread_graph\u001b[0m\u001b[0;34m(\u001b[0m\u001b[0;34m\"test/bin1.txt\"\u001b[0m\u001b[0;34m)\u001b[0m\u001b[0;34m\u001b[0m\u001b[0;34m\u001b[0m\u001b[0m\n\u001b[0m",
      "\u001b[0;32m<ipython-input-21-883194c953f9>\u001b[0m in \u001b[0;36mread_graph\u001b[0;34m(file_path)\u001b[0m\n\u001b[1;32m      3\u001b[0m     \u001b[0mcoor_points\u001b[0m\u001b[0;34m,\u001b[0m \u001b[0msize_labels\u001b[0m\u001b[0;34m,\u001b[0m \u001b[0mcoor_labels\u001b[0m \u001b[0;34m=\u001b[0m \u001b[0mread_data\u001b[0m\u001b[0;34m(\u001b[0m\u001b[0mfile_path\u001b[0m\u001b[0;34m)\u001b[0m\u001b[0;34m\u001b[0m\u001b[0;34m\u001b[0m\u001b[0m\n\u001b[1;32m      4\u001b[0m     \u001b[0mG\u001b[0m \u001b[0;34m=\u001b[0m \u001b[0mset_nodes_graph\u001b[0m\u001b[0;34m(\u001b[0m\u001b[0mG\u001b[0m\u001b[0;34m,\u001b[0m \u001b[0mcoor_points\u001b[0m\u001b[0;34m,\u001b[0m \u001b[0mcoor_labels\u001b[0m\u001b[0;34m,\u001b[0m \u001b[0msize_labels\u001b[0m\u001b[0;34m)\u001b[0m\u001b[0;34m\u001b[0m\u001b[0;34m\u001b[0m\u001b[0m\n\u001b[0;32m----> 5\u001b[0;31m     \u001b[0mvalid\u001b[0m\u001b[0;34m,\u001b[0m \u001b[0mdirection\u001b[0m \u001b[0;34m=\u001b[0m \u001b[0mcan_be_draw\u001b[0m\u001b[0;34m(\u001b[0m\u001b[0mG\u001b[0m\u001b[0;34m)\u001b[0m\u001b[0;34m\u001b[0m\u001b[0;34m\u001b[0m\u001b[0m\n\u001b[0m\u001b[1;32m      6\u001b[0m     \u001b[0;32mif\u001b[0m \u001b[0mvalid\u001b[0m\u001b[0;34m:\u001b[0m\u001b[0;34m\u001b[0m\u001b[0;34m\u001b[0m\u001b[0m\n\u001b[1;32m      7\u001b[0m         \u001b[0mdraw_graph\u001b[0m\u001b[0;34m(\u001b[0m\u001b[0mG\u001b[0m\u001b[0;34m.\u001b[0m\u001b[0mnx\u001b[0m\u001b[0;34m.\u001b[0m\u001b[0mget_node_attributes\u001b[0m\u001b[0;34m(\u001b[0m\u001b[0mG\u001b[0m\u001b[0;34m,\u001b[0m \u001b[0;34m'coordinates'\u001b[0m\u001b[0;34m)\u001b[0m\u001b[0;34m,\u001b[0m \u001b[0mcoor_points\u001b[0m\u001b[0;34m,\u001b[0m \u001b[0mdirection\u001b[0m\u001b[0;34m,\u001b[0m \u001b[0mcoor_labels\u001b[0m\u001b[0;34m)\u001b[0m\u001b[0;34m\u001b[0m\u001b[0;34m\u001b[0m\u001b[0m\n",
      "\u001b[0;32m<ipython-input-16-a10f22f65dd5>\u001b[0m in \u001b[0;36mcan_be_draw\u001b[0;34m(G)\u001b[0m\n\u001b[1;32m      2\u001b[0m     \u001b[0morder\u001b[0m \u001b[0;34m=\u001b[0m \u001b[0mget_order\u001b[0m\u001b[0;34m(\u001b[0m\u001b[0mG\u001b[0m\u001b[0;34m)\u001b[0m\u001b[0;34m\u001b[0m\u001b[0;34m\u001b[0m\u001b[0m\n\u001b[1;32m      3\u001b[0m     \u001b[0mcomponents\u001b[0m \u001b[0;34m=\u001b[0m \u001b[0mget_components\u001b[0m\u001b[0;34m(\u001b[0m\u001b[0mG\u001b[0m\u001b[0;34m,\u001b[0m \u001b[0morder\u001b[0m\u001b[0;34m)\u001b[0m\u001b[0;34m\u001b[0m\u001b[0;34m\u001b[0m\u001b[0m\n\u001b[0;32m----> 4\u001b[0;31m     \u001b[0;32mreturn\u001b[0m \u001b[0mcheck_path\u001b[0m\u001b[0;34m(\u001b[0m\u001b[0mG\u001b[0m\u001b[0;34m,\u001b[0m \u001b[0mcomponents\u001b[0m\u001b[0;34m)\u001b[0m\u001b[0;34m\u001b[0m\u001b[0;34m\u001b[0m\u001b[0m\n\u001b[0m",
      "\u001b[0;32m<ipython-input-15-43fb3cae78d7>\u001b[0m in \u001b[0;36mcheck_path\u001b[0;34m(G, components)\u001b[0m\n\u001b[1;32m      2\u001b[0m     \u001b[0mdirection\u001b[0m \u001b[0;34m=\u001b[0m \u001b[0;34m[\u001b[0m\u001b[0;32mFalse\u001b[0m\u001b[0;34m]\u001b[0m \u001b[0;34m*\u001b[0m \u001b[0;34m(\u001b[0m\u001b[0mlen\u001b[0m\u001b[0;34m(\u001b[0m\u001b[0mG\u001b[0m\u001b[0;34m.\u001b[0m\u001b[0mnodes\u001b[0m\u001b[0;34m(\u001b[0m\u001b[0;34m)\u001b[0m\u001b[0;34m)\u001b[0m \u001b[0;34m//\u001b[0m \u001b[0;36m2\u001b[0m\u001b[0;34m)\u001b[0m\u001b[0;34m\u001b[0m\u001b[0;34m\u001b[0m\u001b[0m\n\u001b[1;32m      3\u001b[0m     \u001b[0;32mfor\u001b[0m \u001b[0mi\u001b[0m \u001b[0;32min\u001b[0m \u001b[0mrange\u001b[0m\u001b[0;34m(\u001b[0m\u001b[0mlen\u001b[0m\u001b[0;34m(\u001b[0m\u001b[0mG\u001b[0m\u001b[0;34m)\u001b[0m \u001b[0;34m//\u001b[0m \u001b[0;36m2\u001b[0m\u001b[0;34m)\u001b[0m\u001b[0;34m:\u001b[0m\u001b[0;34m\u001b[0m\u001b[0;34m\u001b[0m\u001b[0m\n\u001b[0;32m----> 4\u001b[0;31m         \u001b[0mnode1\u001b[0m\u001b[0;34m,\u001b[0m \u001b[0mnode1\u001b[0m \u001b[0;34m=\u001b[0m \u001b[0mget_comp_nodes\u001b[0m\u001b[0;34m(\u001b[0m\u001b[0mG\u001b[0m\u001b[0;34m,\u001b[0m  \u001b[0mi\u001b[0m\u001b[0;34m)\u001b[0m\u001b[0;34m\u001b[0m\u001b[0;34m\u001b[0m\u001b[0m\n\u001b[0m\u001b[1;32m      5\u001b[0m         \u001b[0;32mif\u001b[0m \u001b[0mcomponents\u001b[0m\u001b[0;34m[\u001b[0m\u001b[0mnode1\u001b[0m\u001b[0;34m]\u001b[0m \u001b[0;34m==\u001b[0m \u001b[0mcomponents\u001b[0m\u001b[0;34m[\u001b[0m\u001b[0mnode2\u001b[0m\u001b[0;34m]\u001b[0m\u001b[0;34m:\u001b[0m\u001b[0;34m\u001b[0m\u001b[0;34m\u001b[0m\u001b[0m\n\u001b[1;32m      6\u001b[0m             \u001b[0;32mreturn\u001b[0m \u001b[0;32mFalse\u001b[0m\u001b[0;34m,\u001b[0m \u001b[0mdirection\u001b[0m\u001b[0;34m\u001b[0m\u001b[0;34m\u001b[0m\u001b[0m\n",
      "\u001b[0;32m<ipython-input-14-64f777bd3a40>\u001b[0m in \u001b[0;36mget_comp_nodes\u001b[0;34m(G, i)\u001b[0m\n\u001b[1;32m      2\u001b[0m     \u001b[0mprint\u001b[0m\u001b[0;34m(\u001b[0m\u001b[0mG\u001b[0m\u001b[0;34m.\u001b[0m\u001b[0mnodes\u001b[0m\u001b[0;34m)\u001b[0m\u001b[0;34m\u001b[0m\u001b[0;34m\u001b[0m\u001b[0m\n\u001b[1;32m      3\u001b[0m     \u001b[0mprint\u001b[0m\u001b[0;34m(\u001b[0m\u001b[0;36m2\u001b[0m \u001b[0;34m*\u001b[0m \u001b[0mi\u001b[0m\u001b[0;34m)\u001b[0m\u001b[0;34m\u001b[0m\u001b[0;34m\u001b[0m\u001b[0m\n\u001b[0;32m----> 4\u001b[0;31m     \u001b[0;32mreturn\u001b[0m \u001b[0mG\u001b[0m\u001b[0;34m.\u001b[0m\u001b[0mnodes\u001b[0m\u001b[0;34m[\u001b[0m\u001b[0;36m2\u001b[0m \u001b[0;34m*\u001b[0m \u001b[0mi\u001b[0m\u001b[0;34m]\u001b[0m\u001b[0;34m,\u001b[0m \u001b[0mG\u001b[0m\u001b[0;34m.\u001b[0m\u001b[0mnodes\u001b[0m\u001b[0;34m[\u001b[0m\u001b[0;36m2\u001b[0m \u001b[0;34m*\u001b[0m \u001b[0mi\u001b[0m \u001b[0;34m+\u001b[0m \u001b[0;36m1\u001b[0m\u001b[0;34m]\u001b[0m\u001b[0;34m\u001b[0m\u001b[0;34m\u001b[0m\u001b[0m\n\u001b[0m",
      "\u001b[0;32m/usr/local/Cellar/jupyterlab/2.0.1/libexec/lib/python3.7/site-packages/networkx/classes/reportviews.py\u001b[0m in \u001b[0;36m__getitem__\u001b[0;34m(self, n)\u001b[0m\n\u001b[1;32m    185\u001b[0m \u001b[0;34m\u001b[0m\u001b[0m\n\u001b[1;32m    186\u001b[0m     \u001b[0;32mdef\u001b[0m \u001b[0m__getitem__\u001b[0m\u001b[0;34m(\u001b[0m\u001b[0mself\u001b[0m\u001b[0;34m,\u001b[0m \u001b[0mn\u001b[0m\u001b[0;34m)\u001b[0m\u001b[0;34m:\u001b[0m\u001b[0;34m\u001b[0m\u001b[0;34m\u001b[0m\u001b[0m\n\u001b[0;32m--> 187\u001b[0;31m         \u001b[0;32mreturn\u001b[0m \u001b[0mself\u001b[0m\u001b[0;34m.\u001b[0m\u001b[0m_nodes\u001b[0m\u001b[0;34m[\u001b[0m\u001b[0mn\u001b[0m\u001b[0;34m]\u001b[0m\u001b[0;34m\u001b[0m\u001b[0;34m\u001b[0m\u001b[0m\n\u001b[0m\u001b[1;32m    188\u001b[0m \u001b[0;34m\u001b[0m\u001b[0m\n\u001b[1;32m    189\u001b[0m     \u001b[0;31m# Set methods\u001b[0m\u001b[0;34m\u001b[0m\u001b[0;34m\u001b[0m\u001b[0;34m\u001b[0m\u001b[0m\n",
      "\u001b[0;31mKeyError\u001b[0m: 0"
     ]
    }
   ],
   "source": [
    "read_graph(\"test/bin1.txt\")"
   ]
  },
  {
   "cell_type": "code",
   "execution_count": null,
   "metadata": {},
   "outputs": [],
   "source": []
  }
 ],
 "metadata": {
  "kernelspec": {
   "display_name": "Python 3",
   "language": "python",
   "name": "python3"
  },
  "language_info": {
   "codemirror_mode": {
    "name": "ipython",
    "version": 3
   },
   "file_extension": ".py",
   "mimetype": "text/x-python",
   "name": "python",
   "nbconvert_exporter": "python",
   "pygments_lexer": "ipython3",
   "version": "3.7.7"
  }
 },
 "nbformat": 4,
 "nbformat_minor": 4
}

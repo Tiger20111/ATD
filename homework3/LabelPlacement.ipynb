{
 "cells": [
  {
   "cell_type": "code",
   "execution_count": 1,
   "metadata": {},
   "outputs": [],
   "source": [
    "import networkx as nx\n",
    "import matplotlib.pyplot as plt"
   ]
  },
  {
   "cell_type": "code",
   "execution_count": 2,
   "metadata": {},
   "outputs": [],
   "source": [
    "def parse_line_data(line):\n",
    "    i = 0\n",
    "    coor_point_x = 0\n",
    "    coor_point_y = 0\n",
    "    size_label_x = 0\n",
    "    size_label_y = 0\n",
    "    coor_label_x = 0\n",
    "    coor_label_y = 0\n",
    "    for element in line.split():\n",
    "        point = element.find(\",\")\n",
    "        len_el = len(element)\n",
    "        if i == 0:\n",
    "            coor_point_x = int(element[:point])\n",
    "            coor_point_y = int(element[point + 1:len_el])\n",
    "        if i == 1:\n",
    "            size_label_x = int(element[:point])\n",
    "            size_label_y = int(element[point + 1:len_el])\n",
    "        if i == 2:\n",
    "            coor_label_x = int(element[:point])\n",
    "            coor_label_y = int(element[point + 1:len_el])\n",
    "        i += 1\n",
    "    return [coor_point_x, coor_point_y], [size_label_x, size_label_y], [coor_label_x, coor_label_y]"
   ]
  },
  {
   "cell_type": "code",
   "execution_count": 3,
   "metadata": {},
   "outputs": [],
   "source": [
    "def read_data(file_path):\n",
    "    coor_points = []\n",
    "    size_labels = []\n",
    "    coor_labels = []\n",
    "    file = open(file_path, \"r\").read() \n",
    "    for line in file.split(\"\\n\"):\n",
    "        coor_point, size_label, coor_label = parse_line_data(line)\n",
    "        coor_points.append(coor_point)\n",
    "        size_labels.append(size_label)\n",
    "        coor_labels.append(coor_label)\n",
    "    return coor_points, size_labels, coor_labels"
   ]
  },
  {
   "cell_type": "code",
   "execution_count": null,
   "metadata": {},
   "outputs": [],
   "source": [
    "def set_nodes_graph(G, coor_points, coor_labels, size_labels):\n",
    "    for i in range(len(points)):\n",
    "        G.add_node(\"+\" + str(i), pos=(coor_points[i][0], coor_points[i][1]))\n",
    "        G.add_node(\"-\" + str(i), pos=(coor_points[i][0], coor_points[i][1]))\n",
    "    return G"
   ]
  },
  {
   "cell_type": "code",
   "execution_count": 16,
   "metadata": {},
   "outputs": [],
   "source": [
    "def is_overlap(x_1, y_1, x_2, y_2):\n",
    "    l1 = (x1 <= x2 and x2 <= x1 + s1[0]\n",
    "            or\n",
    "            x2 <= x1 and x1 <= x2 + s2[0])\n",
    "    l2 = (y1 <= y2 and y2 <= y1 + s1[1]\n",
    "            or\n",
    "            y2 <= y1 and y1 <= y2 + s2[1])\n",
    "    return l1 and l2"
   ]
  },
  {
   "cell_type": "code",
   "execution_count": 10,
   "metadata": {},
   "outputs": [],
   "source": [
    "def get_prefix(z, k):\n",
    "    if z == 0 and k == 0:\n",
    "        return \"-\", \"+\", \"-\", \"+\"\n",
    "    if z == 0 and k == 1:\n",
    "        return \"-\", \"-\", \"+\", \"+\"\n",
    "    if z == 1 and k == 0:\n",
    "        return \"+\", \"+\", \"-\", \"-\"\n",
    "    if z == 1 and k == 1:\n",
    "        return \"+\", \"-\", \"+\", \"-\""
   ]
  },
  {
   "cell_type": "code",
   "execution_count": null,
   "metadata": {},
   "outputs": [],
   "source": [
    "def add_overlap(G, coor_points, coor_labels, size_labels, i, j, z, k):\n",
    "    x_1 = coor_points[i][0] - coor_labels[i][z][0]\n",
    "    y_1 = coor_points[i][1] - coor_labels[i][z][1]\n",
    "    x_2 = coor_points[j][0] - coor_labels[j][k][0]\n",
    "    y_2 = coor_points[j][1] - coor_labels[j][k][1]\n",
    "    \n",
    "    if is_overlap(x_1, y_1, x_2, y_2):\n",
    "        ch1_1, ch1_2, ch2_1, ch2_2\n",
    "        G.add_edge(ch1_1 + str(i), ch1_2 + str(j))\n",
    "        G.add_edge(ch2_1 + str(j), ch2_2 + str(i))\n",
    "    return G"
   ]
  },
  {
   "cell_type": "code",
   "execution_count": null,
   "metadata": {},
   "outputs": [],
   "source": [
    "def add_edge_graph(G, coor_points, coor_labels, size_labels, i, j):\n",
    "    for z in range(0, 1):\n",
    "        for k in range(0, 1):\n",
    "            G = add_edge_graph(G, coor_points, coor_labels, size_labels, i, j, z, k)\n",
    "    return G"
   ]
  },
  {
   "cell_type": "code",
   "execution_count": null,
   "metadata": {},
   "outputs": [],
   "source": [
    "def set_edges_graph(G, coor_points, coor_labels, size_labels):\n",
    "    for i in range(len(coor_points)):\n",
    "        for j in range(len(coor_points)):\n",
    "            if i == j:\n",
    "                continue\n",
    "            G = add_edge_graph(G, coor_points, coor_labels, size_labels, size_labels, i, j)\n",
    "    return G"
   ]
  },
  {
   "cell_type": "code",
   "execution_count": null,
   "metadata": {},
   "outputs": [],
   "source": [
    "def get_order_node(G, order, visit_nodes, node):\n",
    "    if visit_nodes[node]:\n",
    "        return order, visit_nodes\n",
    "    visit_nodes[node] = True\n",
    "    for edge in G.out_edges(node):\n",
    "        order, visit_nodes = get_order_node(G, order, visit_nodes, node)\n",
    "    order.append(node)"
   ]
  },
  {
   "cell_type": "code",
   "execution_count": null,
   "metadata": {},
   "outputs": [],
   "source": [
    "def get_order(G):\n",
    "    visit_nodes = []\n",
    "    for node in G.nodes():\n",
    "        visit_nodes[node] = False\n",
    "    order = []\n",
    "    for node in G.nodes():\n",
    "        order, visit_nodes = get_order_node(G, order, visit_nodes, node)"
   ]
  },
  {
   "cell_type": "code",
   "execution_count": null,
   "metadata": {},
   "outputs": [],
   "source": [
    "def add_node_component(G, components, num_component):"
   ]
  },
  {
   "cell_type": "code",
   "execution_count": null,
   "metadata": {},
   "outputs": [],
   "source": [
    "def get_components():\n",
    "    components = []\n",
    "    num_component = 0\n",
    "    for node in G.nodes():\n",
    "        components[node] = -1\n",
    "    for i in len(G.nodes()):\n",
    "        node = order[len(G.nodes()) - i - 1]\n",
    "        add_node_component()"
   ]
  },
  {
   "cell_type": "code",
   "execution_count": null,
   "metadata": {},
   "outputs": [],
   "source": [
    "def can_be_draw(G):\n",
    "    order = get_order(G)\n",
    "    components = get_components(G, order)"
   ]
  },
  {
   "cell_type": "code",
   "execution_count": null,
   "metadata": {},
   "outputs": [],
   "source": [
    "def read_graph(file_path):\n",
    "    G = nx.DiGraph(directed=True)\n",
    "    coor_points, size_labels, coor_labels = read_data(file_path)\n",
    "    G = set_nodes_graph(G, coor_points, coor_labels, size_labels)"
   ]
  },
  {
   "cell_type": "code",
   "execution_count": 4,
   "metadata": {},
   "outputs": [
    {
     "data": {
      "text/plain": [
       "([[33, 45],\n",
       "  [148, 94],\n",
       "  [198, 30],\n",
       "  [75, 62],\n",
       "  [41, 19],\n",
       "  [71, 143],\n",
       "  [149, 187],\n",
       "  [78, 161],\n",
       "  [56, 117],\n",
       "  [188, 75],\n",
       "  [11, 182],\n",
       "  [198, 174],\n",
       "  [53, 91],\n",
       "  [167, 125],\n",
       "  [174, 5],\n",
       "  [185, 180],\n",
       "  [127, 91],\n",
       "  [11, 116],\n",
       "  [26, 147],\n",
       "  [90, 122],\n",
       "  [55, 75],\n",
       "  [94, 173],\n",
       "  [167, 140],\n",
       "  [94, 13]],\n",
       " [[38, 24],\n",
       "  [55, 47],\n",
       "  [50, 21],\n",
       "  [54, 31],\n",
       "  [11, 24],\n",
       "  [29, 21],\n",
       "  [54, 33],\n",
       "  [44, 38],\n",
       "  [30, 25],\n",
       "  [35, 30],\n",
       "  [10, 18],\n",
       "  [17, 16],\n",
       "  [22, 10],\n",
       "  [34, 22],\n",
       "  [41, 12],\n",
       "  [15, 24],\n",
       "  [26, 24],\n",
       "  [12, 21],\n",
       "  [13, 12],\n",
       "  [15, 20],\n",
       "  [15, 19],\n",
       "  [15, 26],\n",
       "  [16, 22],\n",
       "  [14, 14]],\n",
       " [[19, 0],\n",
       "  [0, 0],\n",
       "  [0, 21],\n",
       "  [0, 0],\n",
       "  [0, 0],\n",
       "  [29, 0],\n",
       "  [0, 0],\n",
       "  [22, 0],\n",
       "  [0, 25],\n",
       "  [35, 10],\n",
       "  [0, 0],\n",
       "  [0, 16],\n",
       "  [0, 0],\n",
       "  [17, 11],\n",
       "  [41, 0],\n",
       "  [0, 8],\n",
       "  [0, 0],\n",
       "  [0, 21],\n",
       "  [0, 12],\n",
       "  [0, 20],\n",
       "  [0, 19],\n",
       "  [15, 0],\n",
       "  [0, 0],\n",
       "  [0, 0]])"
      ]
     },
     "execution_count": 4,
     "metadata": {},
     "output_type": "execute_result"
    }
   ],
   "source": [
    "read_data(\"test/bin1.txt\")"
   ]
  },
  {
   "cell_type": "code",
   "execution_count": null,
   "metadata": {},
   "outputs": [],
   "source": []
  }
 ],
 "metadata": {
  "kernelspec": {
   "display_name": "Python 3",
   "language": "python",
   "name": "python3"
  },
  "language_info": {
   "codemirror_mode": {
    "name": "ipython",
    "version": 3
   },
   "file_extension": ".py",
   "mimetype": "text/x-python",
   "name": "python",
   "nbconvert_exporter": "python",
   "pygments_lexer": "ipython3",
   "version": "3.7.7"
  }
 },
 "nbformat": 4,
 "nbformat_minor": 4
}
